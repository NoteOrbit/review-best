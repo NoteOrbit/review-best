{
  "cells": [
    {
      "cell_type": "code",
      "execution_count": null,
      "metadata": {},
      "outputs": [],
      "source": [
        "# Databricks notebook source\n",
        "\n",
        "from faker import Faker\n",
        "from pyspark.sql.types import StructType, StructField, IntegerType, StringType, DateType\n",
        "from datetime import datetime, timedelta\n",
        "import random\n",
        "\n",
        "fake = Faker()\n",
        "\n",
        "# --- Unity Catalog Configuration ---\n",
        "catalog_name = \"main_catalog\"\n",
        "schema_name = \"etl_demo\"\n",
        "table_name = \"users_raw\"\n",
        "\n",
        "# Create Catalog and Schema if they don\'t exist\n",
        "spark.sql(f\"CREATE CATALOG IF NOT EXISTS {catalog_name}\")\n",
        "spark.sql(f\"USE CATALOG {catalog_name}\")\n",
        "spark.sql(f\"CREATE SCHEMA IF NOT EXISTS {schema_name}\")\n",
        "spark.sql(f\"USE SCHEMA {schema_name}\")\n",
        "\n",
        "# Define schema for users\n",
        "schema = StructType([\n",
        "    StructField(\"user_id\", IntegerType(), True),\n",
        "    StructField(\"name\", StringType(), True),\n",
        "    StructField(\"email\", StringType(), True),\n",
        "    StructField(\"age\", IntegerType(), True),\n",
        "    StructField(\"country\", StringType(), True),\n",
        "    StructField(\"registration_date\", DateType(), True)\n",
        "])\n",
        "\n",
        "# Generate fake data\n",
        "num_records = 100\n",
        "data = []\n",
        "for i in range(num_records):\n",
        "    user_id = i + 1\n",
        "    name = fake.name()\n",
        "    email = fake.email()\n",
        "    age = random.randint(18, 70)\n",
        "    country = fake.country()\n",
        "    registration_date = fake.date_between(start_date='-5y', end_date='today')\n",
        "    data.append((user_id, name, email, age, country, registration_date))\n",
        "\n",
        "# Create Spark DataFrame\n",
        "df = spark.createDataFrame(data, schema=schema)\n",
        "\n",
        "# Write the data to a Unity Catalog table\n",
        "df.write.format(\"delta\").mode(\"overwrite\").saveAsTable(f\"{catalog_name}.{schema_name}.{table_name}\")\n",
        "\n",
        "print(f\"Successfully ingested {num_records} fake users data to {catalog_name}.{schema_name}.{table_name}\")\n"
      ]
    }
  ],
  "metadata": {
    "kernelspec": {
      "display_name": "Python 3",
      "language": "python",
      "name": "python3"
    },
    "language_info": {
      "codemirror_mode": {
        "name": "ipython",
        "version": 3
      },
      "file_extension": ".py",
      "mimetype": "text/x-python",
      "name": "python",
      "nbconvert_exporter": "python",
      "pygments_lexer": "ipython3",
      "version": "3.8.8"
    }
  },
  "nbformat": 4,
  "nbformat_minor": 4
}