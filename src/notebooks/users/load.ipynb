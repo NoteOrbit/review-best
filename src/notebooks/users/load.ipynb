{
  "cells": [
    {
      "cell_type": "code",
      "execution_count": null,
      "metadata": {},
      "outputs": [],
      "source": [
        "# Databricks notebook source\n",
        "\n",
        "from pyspark.sql import SparkSession\n",
        "\n",
        "# Initialize SparkSession if not already available\n",
        "spark = SparkSession.builder.appName(\"Users Load\").getOrCreate()\n",
        "\n",
        "# Define Unity Catalog catalog and schema names\n",
        "# IMPORTANT: Replace 'your_catalog' and 'your_schema' with your actual desired Unity Catalog catalog and schema names.\n",
        "catalog_name = \"main_catalog\"\n",
        "schema_name = \"gold_users_schema\"\n",
        "\n",
        "# Create catalog and schema if they don't exist\n",
        "spark.sql(f\"CREATE CATALOG IF NOT EXISTS {catalog_name}\")\n",
        "spark.sql(f\"USE CATALOG {catalog_name}\")\n",
        "spark.sql(f\"CREATE SCHEMA IF NOT EXISTS {schema_name}\")\n",
        "spark.sql(f\"USE SCHEMA {schema_name}\")\n",
        "\n",
        "input_table_name = \"main_catalog.silver_users_schema.users_transformed\"\n",
        "\n",
        "# Define the Unity Catalog output table name (the final table for consumption)\n",
        "output_table_name = f\"{catalog_name}.{schema_name}.users_final\"\n",
        "\n",
        "# Read the transformed data from the Unity Catalog Delta table\n",
        "df = spark.read.table(input_table_name)\n",
        "\n",
        "# Write the data to a Unity Catalog Delta table (final table)\n",
        "# Ensure you have appropriate permissions to write to the specified catalog and schema.\n",
        "df.write.format(\"delta\").mode(\"overwrite\").saveAsTable(output_table_name)\n",
        "\n",
        "print(f\"Successfully loaded users data into Unity Catalog table: {output_table_name}\")\n"
      ]
    }
  ],
  "metadata": {
    "kernelspec": {
      "display_name": "Python 3",
      "name": "python3"
    },
    "language_info": {
      "codemirror_mode": {
        "name": "ipython",
        "version": 3
      },
      "file_extension": ".py",
      "mimetype": "text/x-python",
      "name": "python",
      "nbconvert_exporter": "python",
      "pygments_lexer": "ipython3",
      "version": "3.9.12"
    }
  },
  "nbformat": 4,
  "nbformat_minor": 4
}