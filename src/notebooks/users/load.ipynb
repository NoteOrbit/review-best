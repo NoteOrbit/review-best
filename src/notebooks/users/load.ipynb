{
  "cells": [
    {
      "cell_type": "code",
      "execution_count": null,
      "metadata": {},
      "outputs": [],
      "source": [
        "\n",
        "# Databricks notebook source\n",
        "\n",
        "# Define the path to the input Delta table\n",
        "input_path = \"/delta/users_transformed\"\n",
        "\n",
        "# Define the name of the final table\n",
        "table_name = \"users\"\n",
        "\n",
        "# Read the transformed data from the Delta table\n",
        "df = spark.read.format(\"delta\").load(input_path)\n",
        "\n",
        "# Create a table in the Hive metastore\n",
        "df.write.format(\"delta\").mode(\"overwrite\").saveAsTable(table_name)\n",
        "\n",
        "print(f\"Successfully loaded users data into table {table_name}\")\n"
      ]
    }
  ],
  "metadata": {
    "kernelspec": {
      "display_name": "Python 3",
      "language": "python",
      "name": "python3"
    },
    "language_info": {
      "codemirror_mode": {
        "name": "ipython",
        "version": 3
      },
      "file_extension": ".py",
      "mimetype": "text/x-python",
      "name": "python",
      "nbconvert_exporter": "python",
      "pygments_lexer": "ipython3",
      "version": "3.8.8"
    }
  },
  "nbformat": 4,
  "nbformat_minor": 4
}