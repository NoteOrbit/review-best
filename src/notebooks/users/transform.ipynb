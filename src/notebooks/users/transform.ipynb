{
 "cells": [
  {
   "cell_type": "code",
   "execution_count": null,
   "id": "de430f82",
   "metadata": {},
   "outputs": [],
   "source": [
    "from pyspark.sql import SparkSession\n",
    "from pyspark.sql.functions import col, to_timestamp, datediff, current_date, lit, current_timestamp\n",
    "\n",
    "# Initialize SparkSession if not already available\n",
    "spark = SparkSession.builder.appName(\"Users Transform\").getOrCreate()\n",
    "\n",
    "# Define Unity Catalog catalog and schema names\n",
    "# IMPORTANT: Replace 'your_catalog' and 'your_schema' with your actual desired Unity Catalog catalog and schema names.\n",
    "catalog_name = \"main_catalog\"\n",
    "schema_name = \"silver_users_schema\"\n",
    "\n",
    "# Create catalog and schema if they don't exist\n",
    "spark.sql(f\"CREATE CATALOG IF NOT EXISTS {catalog_name}\")\n",
    "spark.sql(f\"USE CATALOG {catalog_name}\")\n",
    "spark.sql(f\"CREATE SCHEMA IF NOT EXISTS {schema_name}\")\n",
    "spark.sql(f\"USE SCHEMA {schema_name}\")\n",
    "\n",
    "# Define the Unity Catalog input and output table names\n",
    "input_table_name = \"main_catalog.bronze_users_schema.users_raw\"\n",
    "output_table_name = f\"{catalog_name}.{schema_name}.users_transformed\"\n",
    "\n",
    "# Read the raw data from the Unity Catalog table\n",
    "df = spark.read.table(input_table_name)\n",
    "\n",
    "# --- CORRECTED TRANSFORMATIONS ---\n",
    "# The raw DataFrame 'df' has columns:\n",
    "# user_id, name, email, address, created_at\n",
    "\n",
    "transformed_df = df.withColumn(\n",
    "    # 1. ใช้คอลัมน์ 'created_at' เพื่อสร้าง registration_ts\n",
    "    \"registration_ts\", to_timestamp(\"created_at\") # Spark สามารถ parse ISO 8601 format ได้โดยตรง\n",
    ").withColumn(\n",
    "    # 2. คำนวณอายุการเป็นสมาชิก (tenure) จาก created_at\n",
    "    \"days_as_member\", datediff(current_date(), col(\"created_at\"))\n",
    ").withColumn(\n",
    "    # 3. เพิ่ม metadata column สำหรับ load timestamp\n",
    "    \"_load_timestamp\", current_timestamp()\n",
    ").select(\n",
    "    # 4. เลือกและจัดเรียงคอลัมน์สำหรับตาราง Silver\n",
    "    col(\"user_id\"),\n",
    "    col(\"name\").alias(\"full_name\"), # เปลี่ยนชื่อคอลัมน์ 'name' เป็น 'full_name'\n",
    "    col(\"email\"),\n",
    "    col(\"days_as_member\"),\n",
    "    col(\"registration_ts\"),\n",
    "    col(\"_load_timestamp\")\n",
    ")\n",
    "\n",
    "# Write the transformed data to the Unity Catalog silver table\n",
    "transformed_df.write.mode(\"overwrite\").option(\"mergeSchema\", \"true\").saveAsTable(output_table_name)\n",
    "\n",
    "print(f\"Successfully transformed data and saved to {output_table_name}\")\n",
    "\n",
    "# Display a sample of the transformed data\n",
    "display(spark.read.table(output_table_name))"
   ]
  },
  {
   "cell_type": "code",
   "execution_count": null,
   "id": "8ee08019",
   "metadata": {
    "vscode": {
     "languageId": "plaintext"
    }
   },
   "outputs": [],
   "source": []
  }
 ],
 "metadata": {
  "language_info": {
   "name": "python"
  }
 },
 "nbformat": 4,
 "nbformat_minor": 5
}
