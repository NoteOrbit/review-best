{
  "cells": [
    {
      "cell_type": "code",
      "execution_count": null,
      "metadata": {},
      "outputs": [],
      "source": [
        "# Databricks notebook source\n",
        "\n",
        "from pyspark.sql import SparkSession\n",
        "from pyspark.sql.functions import col, when\n",
        "\n",
        "# Initialize SparkSession if not already available\n",
        "spark = SparkSession.builder.appName(\"Products Transform\").getOrCreate()\n",
        "\n",
        "# Define Unity Catalog catalog and schema names\n",
        "# IMPORTANT: Replace 'your_catalog' and 'your_schema' with your actual desired Unity Catalog catalog and schema names.\n",
        "catalog_name = \"main_catalog\"\n",
        "schema_name = \"silver_products_schema\"\n",
        "\n",
        "# Create catalog and schema if they don't exist\n",
        "spark.sql(f\"CREATE CATALOG IF NOT EXISTS {catalog_name}\")\n",
        "spark.sql(f\"USE CATALOG {catalog_name}\")\n",
        "spark.sql(f\"CREATE SCHEMA IF NOT EXISTS {schema_name}\")\n",
        "spark.sql(f\"USE SCHEMA {schema_name}\")\n",
        "\n",
        "input_table_name = \"main_catalog.bronze_products_schema.products_raw\"\n",
        "\n",
        "# Define the Unity Catalog output table name\n",
        "output_table_name = f\"{catalog_name}.{schema_name}.products_transformed\"\n",
        "\n",
        "# Read the raw data from the Unity Catalog table\n",
        "df = spark.read.table(input_table_name)\n",
        "\n",
        "# Perform transformations\n",
        "df_transformed = df.withColumn(\"price\", col(\"price\").cast(\"double\")) \\\n",
        "    .withColumn(\"brand\", when(col(\"name\").contains(\"Awesome\"), \"AwesomeBrand\").otherwise(\"GenericBrand\")) \\\n",
        "    .select(\"product_id\", \"name\", \"brand\", \"price\", \"created_at\")\n",
        "\n",
        "# Write the transformed data to a Unity Catalog Delta table\n",
        "# Ensure you have appropriate permissions to write to the specified catalog and schema.\n",
        "df_transformed.write.format(\"delta\").mode(\"overwrite\").saveAsTable(output_table_name)\n",
        "\n",
        "print(f\"Successfully transformed products data and saved to Unity Catalog table: {output_table_name}\")\n"
      ]
    }
  ],
  "metadata": {
    "kernelspec": {
      "display_name": "Python 3",
      "name": "python3"
    },
    "language_info": {
      "codemirror_mode": {
        "name": "ipython",
        "version": 3
      },
      "file_extension": ".py",
      "mimetype": "text/x-python",
      "name": "python",
      "nbconvert_exporter": "python",
      "pygments_lexer": "ipython3",
      "version": "3.9.12"
    }
  },
  "nbformat": 4,
  "nbformat_minor": 4
}
