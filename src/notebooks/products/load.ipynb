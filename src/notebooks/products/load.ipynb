{
  "cells": [
    {
      "cell_type": "code",
      "execution_count": null,
      "metadata": {},
      "outputs": [],
      "source": [
        "# Databricks notebook source\n",
        "\n",
        "from pyspark.sql.utils import AnalysisException\n",
        "\n",
        "# --- Unity Catalog Configuration ---",
        "catalog_name = \"main_catalog\"",
        "schema_name = \"etl_demo\"",
        "input_table_name = \"products_transformed\"",
        "output_table_name = \"products\" # Final table name\n",
        "\n",
        "# Use the catalog and schema",
        "spark.sql(f\"USE CATALOG {catalog_name}\")",
        "spark.sql(f\"USE SCHEMA {schema_name}\")",
        "\n",
        "try:",
        "    print(f\"Reading transformed products data from {catalog_name}.{schema_name}.{input_table_name}...\")",
        "    # Read the transformed data from the Delta table",
        "    df = spark.read.table(f\"{catalog_name}.{schema_name}.{input_table_name}\")",
        "    print(f\"Successfully read {df.count()} rows from {catalog_name}.{schema_name}.{input_table_name}.\")",
        "\n",
        "    print(f\"Writing data to final table {catalog_name}.{schema_name}.{output_table_name}...\")",
        "    # Create a table in the Hive metastore",
        "    df.write.format(\"delta\").mode(\"overwrite\").saveAsTable(f\"{catalog_name}.{schema_name}.{output_table_name}\")",
        "    print(f\"Successfully loaded products data into table {catalog_name}.{schema_name}.{output_table_name}.\")",
        "\n",
        "except AnalysisException as e:",
        "    print(f\"Error reading or writing Delta table: {e}\")",
        "    print(\"Please ensure the input table exists and has valid Delta table data.\")",
        "except Exception as e:",
        "    print(f\"An unexpected error occurred: {e}\")"
      ]
    }
  ],
  "metadata": {
    "kernelspec": {
      "display_name": "Python 3",
      "language": "python",
      "name": "python3"
    },
    "language_info": {
      "codemirror_mode": {
        "name": "ipython",
        "version": 3
      },
      "file_extension": ".py",
      "mimetype": "text/x-python",
      "name": "python",
      "nbconvert_exporter": "python",
      "pygments_lexer": "ipython3",
      "version": "3.8.8"
    }
  },
  "nbformat": 4,
  "nbformat_minor": 4
}