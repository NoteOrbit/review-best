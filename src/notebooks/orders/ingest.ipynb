{
  "cells": [
    {
      "cell_type": "code",
      "execution_count": null,
      "metadata": {},
      "outputs": [],
      "source": [
        "# Databricks notebook source ## test#\n",
        "\n",
        "import pandas as pd\n",
        "from pyspark.sql import SparkSession\n",
        "\n",
        "# Initialize SparkSession if not already available (for local testing or non-Databricks environments)\n",
        "spark = SparkSession.builder.appName(\"Orders Ingest\").getOrCreate()\n",
        "\n",
        "# Define the path to the input CSV file (relative to the project root)\n",
        "input_csv_path = \"/Workspace/Shared/data/orders.csv\"\n",
        "\n",
        "# Define Unity Catalog catalog and schema names\n",
        "# IMPORTANT: Replace 'your_catalog' and 'your_schema' with your actual desired Unity Catalog catalog and schema names.\n",
        "catalog_name = \"main_catalog\"\n",
        "schema_name = \"bronze_orders_schema\"\n",
        "\n",
        "# Create catalog and schema if they don't exist\n",
        "spark.sql(f\"CREATE CATALOG IF NOT EXISTS {catalog_name}\")\n",
        "spark.sql(f\"USE CATALOG {catalog_name}\")\n",
        "spark.sql(f\"CREATE SCHEMA IF NOT EXISTS {schema_name}\")\n",
        "spark.sql(f\"USE SCHEMA {schema_name}\")\n",
        "\n",
        "output_table_name = f\"{catalog_name}.{schema_name}.orders_raw\"\n",
        "\n",
        "# Read the CSV file using pandas\n",
        "pdf = pd.read_csv(input_csv_path)\n",
        "\n",
        "# Convert pandas DataFrame to Spark DataFrame\n",
        "df = spark.createDataFrame(pdf)\n",
        "\n",
        "# Write the data to a Unity Catalog Delta table\n",
        "# Ensure you have appropriate permissions to write to the specified catalog and schema.\n",
        "df.write.format(\"delta\").mode(\"overwrite\").saveAsTable(output_table_name)\n",
        "\n",
        "print(f\"Successfully ingested orders data to Unity Catalog table: {output_table_name}\")\n"
      ]
    }
  ],
  "metadata": {
    "kernelspec": {
      "display_name": "Python 3",
      "name": "python3"
    },
    "language_info": {
      "codemirror_mode": {
        "name": "ipython",
        "version": 3
      },
      "file_extension": ".py",
      "mimetype": "text/x-python",
      "name": "python",
      "nbconvert_exporter": "python",
      "pygments_lexer": "ipython3",
      "version": "3.9.12"
    }
  },
  "nbformat": 4,
  "nbformat_minor": 4
}
