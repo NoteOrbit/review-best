{
  "cells": [
    {
      "cell_type": "code",
      "execution_count": null,
      "metadata": {},
      "outputs": [],
      "source": [
        "# Databricks notebook source\n",
        "\n",
        "from faker import Faker\n",
        "from pyspark.sql.types import StructType, StructField, IntegerType, StringType, FloatType, DateType\n",
        "from datetime import datetime, timedelta\n",
        "import random\n",
        "\n",
        