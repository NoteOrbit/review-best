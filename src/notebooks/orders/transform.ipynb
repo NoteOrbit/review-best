{
  "cells": [
    {
      "cell_type": "code",
      "execution_count": null,
      "metadata": {},
      "outputs": [],
      "source": [
        "# Databricks notebook source\n",
        "\n",
        "from pyspark.sql import SparkSession\n",
        "from pyspark.sql.functions import col, to_timestamp\n",
        "\n",
        "# Initialize SparkSession if not already available\n",
        "spark = SparkSession.builder.appName(\"Orders Transform\").getOrCreate()\n",
        "\n",
        "# Define Unity Catalog catalog and schema names\n",
        "# IMPORTANT: Replace 'your_catalog' and 'your_schema' with your actual desired Unity Catalog catalog and schema names.\n",
        "catalog_name = \"main_catalog\"\n",
        "schema_name = \"silver_orders_schema\"\n",
        "\n",
        "# Create catalog and schema if they don't exist\n",
        "spark.sql(f\"CREATE CATALOG IF NOT EXISTS {catalog_name}\")\n",
        "spark.sql(f\"USE CATALOG {catalog_name}\")\n",
        "spark.sql(f\"CREATE SCHEMA IF NOT EXISTS {schema_name}\")\n",
        "spark.sql(f\"USE SCHEMA {schema_name}\")\n",
        "\n",
        "orders_input_table = \"main_catalog.bronze_orders_schema.orders_raw\"\n",
        "users_input_table = \"main_catalog.silver_users_schema.users_transformed\"\n",
        "products_input_table = \"main_catalog.silver_products_schema.products_transformed\"\n",
        "\n",
        "# Define the Unity Catalog output table name\n",
        "output_table_name = f\"{catalog_name}.{schema_name}.orders_transformed\"\n",
        "\n",
        "# Read the raw data from the Unity Catalog tables\n",
        "df_orders = spark.read.table(orders_input_table)\n",
        "df_users = spark.read.table(users_input_table)\n",
        "df_products = spark.read.table(products_input_table)\n",
        "\n",
        "# Perform transformations\n",
        "df_transformed = df_orders \\\n",
        "    .withColumn(\"quantity\", col(\"quantity\").cast(\"int\")) \\\n",
        "    .withColumn(\"order_date\", to_timestamp(col(\"order_date\"))) \\\n",
        "    .join(df_users, \"user_id\", \"left\") \\\n",
        "    .join(df_products, \"product_id\", \"left\") \\\n",
        "    .select(\"order_id\", \"user_id\", \"product_id\", \"quantity\", \"order_date\", \"name\", \"brand\", \"price\")\n",
        "\n",
        "# Write the transformed data to a Unity Catalog Delta table\n",
        "# Ensure you have appropriate permissions to write to the specified catalog and schema.\n",
        "df_transformed.write.format(\"delta\").mode(\"overwrite\").saveAsTable(output_table_name)\n",
        "\n",
        "print(f\"Successfully transformed orders data and saved to Unity Catalog table: {output_table_name}\")\n"
      ]
    }
  ],
  "metadata": {
    "kernelspec": {
      "display_name": "Python 3",
      "name": "python3"
    },
    "language_info": {
      "codemirror_mode": {
        "name": "ipython",
        "version": 3
      },
      "file_extension": ".py",
      "mimetype": "text/x-python",
      "name": "python",
      "nbconvert_exporter": "python",
      "pygments_lexer": "ipython3",
      "version": "3.9.12"
    }
  },
  "nbformat": 4,
  "nbformat_minor": 4
}
